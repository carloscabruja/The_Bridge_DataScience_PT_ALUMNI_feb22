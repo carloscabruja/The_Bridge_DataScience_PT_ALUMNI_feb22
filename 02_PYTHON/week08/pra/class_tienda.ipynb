{
 "cells": [
  {
   "cell_type": "markdown",
   "metadata": {},
   "source": [
    "## Ejercicio 1\n",
    "Somos una empresa que tiene varias tiendas de electrodomesticos. Necesitamos un programa para manejar las tiendas, ver las ventas que han tenido, cuántos empleados hay, etc... Para ello vamos a modelizar la tienda en una clase, que tendrá las siguientes características:\n",
    "\n",
    "* Nombre clase: \"Tienda\"\n",
    "* Atributos comunes:\n",
    "    * Tipo: \"Electrodomésticos\"\n",
    "    * Abierta: True\n",
    "* Atributos propios de cada tienda:\n",
    "    * Nombre - String\n",
    "    * Dirección - String\n",
    "    * Número de empleados - int\n",
    "    * Ventas ultimos 3 meses - Lista de 3 numeros\n",
    "* Método para calcular las ventas de todos los meses, que devuelva un numero con todas las ventas.\n",
    "* Método que calcula la media de ventas de los ultimos meses, por empleado\n",
    "* Método que devuelve en un string el nombre de la tienda, junto con su dirección.\n",
    "* Método que obtiene las ventas del último mes.\n",
    "* Método para dar una proyección de las ventas en caso de haber invertido X dinero en marketing en esa tienda. Siendo X el parámetro de entrada. Si X es menor de 1000, las ventas de los ultimos 3 meses hubiesen sido de (1.2 x ventas), si es mayor o igual de 1000, las ventas hubiesen sido de (1.5 x venta). El método reescribe el atributo de ventas en los últimos 3 meses, y además devuelve las ventas con el aumento.\n",
    "\n",
    "* Se pide:\n",
    "1. Implementar la clase \"Tienda\"\n",
    "2. Crear tres tiendas con datos inventados\n",
    "3. Comprueba en al menos una de ellas, todo lo implementado en la clase tienda (sus atributos, media de ventas, ventas/empleado...)\n",
    "4. Calcular las ventas del último mes de todas las tiendas. Para ello usa el bucle `for`\n",
    "5. Imprime por pantalla los nombres de las tiendas cuya dirección lleve el string \"Avenida\"\n",
    "6. Utilizad este notebook para ejecutar y un fichero para definir vuestras clases, métodos y funciones.\n",
    "7. Seguro que ya has hecho este apartado... Documenta la clase :)"
   ]
  },
  {
   "cell_type": "code",
   "execution_count": 1,
   "metadata": {},
   "outputs": [],
   "source": [
    "from clases_tienda import *"
   ]
  },
  {
   "cell_type": "code",
   "execution_count": 2,
   "metadata": {},
   "outputs": [],
   "source": [
    "# Crear 3 tiendas con datos inventados\n",
    "zara = Tienda(\n",
    "    nombre = \"Zara\", \n",
    "    direccion=\"Avenida Diputación, S/n, Edf Inditex. 15142, Arteixo (coruña (a))\",\n",
    "    num_empleados=10700,\n",
    "    ventas=[1895, 2049, 2236]\n",
    ")\n",
    "\n",
    "nintendo = Tienda(\n",
    "    nombre = \"Nintendo\", \n",
    "    direccion=\"Calle Estebanez Calderon, 3 -5, MADRID, MADRID.\",\n",
    "    num_empleados=6413,\n",
    "    ventas=[10163, 10249, 10354]\n",
    ")\n",
    "\n",
    "mercadona = Tienda(\n",
    "    nombre=\"Mercadona\",\n",
    "    direccion=\"Calle Valencia, 5 Tabernes Blanques, Valencia, España\",\n",
    "    num_empleados=93300,\n",
    "    ventas=[24500, 79563, 98161]\n",
    ")"
   ]
  },
  {
   "cell_type": "code",
   "execution_count": 3,
   "metadata": {},
   "outputs": [
    {
     "name": "stdout",
     "output_type": "stream",
     "text": [
      "\n",
      "    Nombre : Zara,\n",
      "    Dirección : Avenida Diputación, S/n, Edf Inditex. 15142, Arteixo (coruña (a)),\n",
      "    Número de empleados : 10700,\n",
      "    Ventas : [1895, 2049, 2236]\n",
      "    \n",
      "Sumatoria de las ventas 6180\n",
      "Promedio de las ventas 0.577570093457944\n",
      "Nombre: Zara Dirección: Avenida Diputación, S/n, Edf Inditex. 15142, Arteixo (coruña (a))\n",
      "Venta del ultimo mes 2236\n",
      "Venta proyectada si inviertes 1500: \n",
      "[2842.5, 3073.5, 3354.0]\n"
     ]
    }
   ],
   "source": [
    "# Comprueba en al menos una de ellas, todo lo implementado en la clase tienda (sus atributos, media de ventas, ventas/empleado...)\n",
    "\n",
    "# Atributos\n",
    "print(f'''\n",
    "    Nombre : {zara.nombre},\n",
    "    Dirección : {zara.direccion},\n",
    "    Número de empleados : {zara.num_empleados},\n",
    "    Ventas : {zara.ventas}\n",
    "    '''\n",
    ")\n",
    "\n",
    "print(\"Sumatoria de las ventas \" + str(zara.venta_meses()))\n",
    "print(\"Promedio de las ventas \" + str(zara.media_ventas()))\n",
    "print(zara.nombre_tienda()) # formato String nombre de la tienda\n",
    "print(\"Venta del ultimo mes \" + str(zara.venta_ult_mes()))\n",
    "print(\"Venta proyectada si inviertes 1500: \")\n",
    "print(zara.proyectar_ventas(1500))"
   ]
  },
  {
   "cell_type": "code",
   "execution_count": 4,
   "metadata": {},
   "outputs": [
    {
     "name": "stdout",
     "output_type": "stream",
     "text": [
      "Las ventas totales de las 3 tiendas en el ultimo mes fueron 111869.0\n"
     ]
    }
   ],
   "source": [
    "# Calcular las ventas del último mes de todas las tiendas. Para ello usa el bucle `for`\n",
    "tiendas = [zara, nintendo, mercadona]\n",
    "ventas_totales = 0\n",
    "\n",
    "for i in tiendas:\n",
    "    ventas_totales += i.venta_ult_mes()\n",
    "\n",
    "print(\"Las ventas totales de las 3 tiendas en el ultimo mes fueron \" + str(ventas_totales))"
   ]
  },
  {
   "cell_type": "code",
   "execution_count": 5,
   "metadata": {},
   "outputs": [
    {
     "name": "stdout",
     "output_type": "stream",
     "text": [
      "Zara\n"
     ]
    }
   ],
   "source": [
    "# Imprime por pantalla los nombres de las tiendas cuya dirección lleve el string \"Avenida\"\n",
    "tiendas = [zara, nintendo, mercadona]\n",
    "\n",
    "for i in tiendas:\n",
    "    if \"Avenida\" in i.direccion:\n",
    "        print(i.nombre)"
   ]
  }
 ],
 "metadata": {
  "interpreter": {
   "hash": "a240430ec4cd4cfd75c9ff817ea547eda7c4861120e58bca32b539ba4a644825"
  },
  "kernelspec": {
   "display_name": "Python 3.9.5 ('the_bridge_22')",
   "language": "python",
   "name": "python3"
  },
  "language_info": {
   "codemirror_mode": {
    "name": "ipython",
    "version": 3
   },
   "file_extension": ".py",
   "mimetype": "text/x-python",
   "name": "python",
   "nbconvert_exporter": "python",
   "pygments_lexer": "ipython3",
   "version": "3.9.5"
  },
  "orig_nbformat": 4
 },
 "nbformat": 4,
 "nbformat_minor": 2
}
