{
 "cells": [
  {
   "cell_type": "code",
   "execution_count": 12,
   "metadata": {},
   "outputs": [],
   "source": [
    "class Tienda:\n",
    "    \"\"\"\n",
    "\n",
    "    docstring de la clase tienda\n",
    "\n",
    "    \"\"\"\n",
    "\n",
    "    tipo = \"Electrodomésticos\"\n",
    "    abierta = True \n",
    "    nombre = \"\"\n",
    "    direccion = \"\"\n",
    "    num_empleados = 0\n",
    "    ventas = [0, 0, 0]\n",
    "\n",
    "    def __init__(self, nombre, direccion, num_empleados, ventas):\n",
    "        self.nombre = nombre\n",
    "        self.direccion = direccion\n",
    "        self.num_empleados = num_empleados\n",
    "        self.ventas = ventas\n",
    "    \n",
    "    def venta_meses(self):\n",
    "        return sum(self.ventas)\n",
    "\n",
    "    def media_ventas(self):\n",
    "        return (self.venta_meses() / self.num_empleados)\n",
    "\n",
    "    def nombre_tienda(self):\n",
    "        return f\"Nombre: {self.nombre} Dirección: {self.direccion}\"\n",
    "\n",
    "    def venta_ult_mes(self):\n",
    "        return self.ventas[-1]\n",
    "\n",
    "    def proyectar_ventas(self, x):\n",
    "        ventas_proyectadas = []\n",
    "        if x < 1000:\n",
    "            for i in self.ventas:\n",
    "                ventas_proyectadas.append(1.2 * i)\n",
    "        else:\n",
    "            for i in self.ventas:\n",
    "                ventas_proyectadas.append(1.5 * i)\n",
    "        \n",
    "        self.ventas = ventas_proyectadas\n",
    "        return self.ventas"
   ]
  },
  {
   "cell_type": "code",
   "execution_count": 13,
   "metadata": {},
   "outputs": [],
   "source": [
    "# Crear 3 tiendas con datos inventados\n",
    "zara = Tienda(\n",
    "    nombre = \"Zara\", \n",
    "    direccion=\"Avenida Diputación, S/n, Edf Inditex. 15142, Arteixo (coruña (a))\",\n",
    "    num_empleados=10700,\n",
    "    ventas=[1895, 2049, 2236]\n",
    ")\n",
    "\n",
    "nintendo = Tienda(\n",
    "    nombre = \"Nintendo\", \n",
    "    direccion=\"Calle Estebanez Calderon, 3 -5, MADRID, MADRID.\",\n",
    "    num_empleados=6413,\n",
    "    ventas=[10163, 10249, 10354]\n",
    ")\n",
    "\n",
    "mercadona = Tienda(\n",
    "    nombre=\"Mercadona\",\n",
    "    direccion=\"Calle Valencia, 5 Tabernes Blanques, Valencia, España\",\n",
    "    num_empleados=93300,\n",
    "    ventas=[24500, 79563, 98161]\n",
    ")"
   ]
  },
  {
   "cell_type": "code",
   "execution_count": 14,
   "metadata": {},
   "outputs": [
    {
     "name": "stdout",
     "output_type": "stream",
     "text": [
      "\n",
      "    Nombre : Zara,\n",
      "    Dirección : Avenida Diputación, S/n, Edf Inditex. 15142, Arteixo (coruña (a)),\n",
      "    Número de empleados : 10700,\n",
      "    Ventas : [1895, 2049, 2236]\n",
      "    \n",
      "Sumatoria de las ventas 6180\n",
      "Promedio de las ventas 0.577570093457944\n",
      "Nombre: Zara Dirección: Avenida Diputación, S/n, Edf Inditex. 15142, Arteixo (coruña (a))\n",
      "Venta del ultimo mes 2236\n",
      "Venta proyectada si inviertes 1500: \n",
      "[2842.5, 3073.5, 3354.0]\n"
     ]
    }
   ],
   "source": [
    "# Comprueba en al menos una de ellas, todo lo implementado en la clase tienda (sus atributos, media de ventas, ventas/empleado...)\n",
    "\n",
    "# Atributos\n",
    "print(f'''\n",
    "    Nombre : {zara.nombre},\n",
    "    Dirección : {zara.direccion},\n",
    "    Número de empleados : {zara.num_empleados},\n",
    "    Ventas : {zara.ventas}\n",
    "    '''\n",
    ")\n",
    "\n",
    "print(\"Sumatoria de las ventas \" + str(zara.venta_meses()))\n",
    "print(\"Promedio de las ventas \" + str(zara.media_ventas()))\n",
    "print(zara.nombre_tienda()) # formato String nombre de la tienda\n",
    "print(\"Venta del ultimo mes \" + str(zara.venta_ult_mes()))\n",
    "print(\"Venta proyectada si inviertes 1500: \")\n",
    "print(zara.proyectar_ventas(1500))"
   ]
  },
  {
   "cell_type": "code",
   "execution_count": 15,
   "metadata": {},
   "outputs": [
    {
     "name": "stdout",
     "output_type": "stream",
     "text": [
      "Las ventas totales de las 3 tiendas en el ultimo mes fueron 111869.0\n"
     ]
    }
   ],
   "source": [
    "# Calcular las ventas del último mes de todas las tiendas. Para ello usa el bucle `for`\n",
    "tiendas = [zara, nintendo, mercadona]\n",
    "ventas_totales = 0\n",
    "\n",
    "for i in tiendas:\n",
    "    ventas_totales += i.venta_ult_mes()\n",
    "\n",
    "print(\"Las ventas totales de las 3 tiendas en el ultimo mes fueron \" + str(ventas_totales))"
   ]
  },
  {
   "cell_type": "code",
   "execution_count": 16,
   "metadata": {},
   "outputs": [
    {
     "name": "stdout",
     "output_type": "stream",
     "text": [
      "Zara\n"
     ]
    }
   ],
   "source": [
    "# Imprime por pantalla los nombres de las tiendas cuya dirección lleve el string \"Avenida\"\n",
    "tiendas = [zara, nintendo, mercadona]\n",
    "\n",
    "for i in tiendas:\n",
    "    if \"Avenida\" in i.direccion:\n",
    "        print(i.nombre)"
   ]
  }
 ],
 "metadata": {
  "interpreter": {
   "hash": "a240430ec4cd4cfd75c9ff817ea547eda7c4861120e58bca32b539ba4a644825"
  },
  "kernelspec": {
   "display_name": "Python 3.9.5 ('the_bridge_22')",
   "language": "python",
   "name": "python3"
  },
  "language_info": {
   "codemirror_mode": {
    "name": "ipython",
    "version": 3
   },
   "file_extension": ".py",
   "mimetype": "text/x-python",
   "name": "python",
   "nbconvert_exporter": "python",
   "pygments_lexer": "ipython3",
   "version": "3.9.5"
  },
  "orig_nbformat": 4
 },
 "nbformat": 4,
 "nbformat_minor": 2
}
