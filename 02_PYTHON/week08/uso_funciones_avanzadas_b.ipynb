{
 "cells": [
  {
   "cell_type": "code",
   "execution_count": null,
   "metadata": {},
   "outputs": [],
   "source": [
    "# Definimos una función con dos parámetros obligatorios y\n",
    "# un número indeterminado de parámetros posicionales\n",
    "def suma_dos_o_tres_valores(x, y, *extra_arg):\n",
    "    print(f\"Los argumentos son {x}, {y}\")\n",
    "    print(f\"Los argumentos añadidos son {extra_arg}\")\n",
    "    print(f\"Otro extra argumento es {extra_arg}\")\n",
    "    return x + y + sum(extra_arg)"
   ]
  }
 ],
 "metadata": {
  "language_info": {
   "name": "python"
  },
  "orig_nbformat": 4
 },
 "nbformat": 4,
 "nbformat_minor": 2
}
