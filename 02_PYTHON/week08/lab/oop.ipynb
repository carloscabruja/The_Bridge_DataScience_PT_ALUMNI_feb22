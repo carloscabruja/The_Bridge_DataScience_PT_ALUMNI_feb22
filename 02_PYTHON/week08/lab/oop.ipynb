{
 "cells": [
  {
   "cell_type": "markdown",
   "metadata": {},
   "source": [
    "# Programación Orientada a Objetos"
   ]
  },
  {
   "cell_type": "code",
   "execution_count": null,
   "metadata": {},
   "outputs": [],
   "source": [
    "mobile = {\n",
    "    \"marca\" : \"Samsung\",\n",
    "    \"SO\": \"Android\",\n",
    "    \"version\" : \"5.6\",\n",
    "    \"modelo\" : \"A22\",\n",
    "    \"screen_size\" : 7,\n",
    "    \"weight\" : 200,\n",
    "    \"color\" : \"silver\",\n",
    "    \"RAM\" : 8,\n",
    "    \"memoria\" : 512,\n",
    "    \"camara\" : {\n",
    "        \"frontal\" : {\"resolution\":\"15MP\"},\n",
    "        \"back\" : [\n",
    "            {\"type\": \"zoom\",\n",
    "            \"resolution\": \"25MP\"},\n",
    "            {\"type\": \"macro\",\n",
    "            \"resolution\": \"30MP\"}\n",
    "        ]},\n",
    "    \"bateria\" : {\"type\" : \"Lithium\",\n",
    "                \"MaxCharge\" : 4500,\n",
    "                \"charge\":0.56},\n",
    "    \"apps\" : [\n",
    "        {\n",
    "        \"name\" : \"Whatsapp\",\n",
    "        \"version\" : \"1.56.0\",\n",
    "        \"memoria_ocupada\" : \"15Mb\",\n",
    "        \"desarrollador\" : \"Meta\"\n",
    "        },\n",
    "        {\n",
    "        \"name\" : \"Gmail\",\n",
    "        \"version\" : \"123.56.0\",\n",
    "        \"memoria_ocupada\" : \"105Mb\",\n",
    "        \"desarrollador\" : \"Google\"\n",
    "        }\n",
    "    ]\n",
    "}"
   ]
  },
  {
   "cell_type": "code",
   "execution_count": null,
   "metadata": {},
   "outputs": [],
   "source": [
    "# Definimos una función para cargar el móvil\n",
    "def charge_phone(phone):\n",
    "    '''\n",
    "    La función toma un objeto y carga la bateria\n",
    "    \n",
    "    Args:\n",
    "    ----\n",
    "        phone obj dict positional\n",
    "\n",
    "    Return:\n",
    "    -----\n",
    "        mismo objeto dict con valor cambiado\n",
    "    '''\n",
    "    phone['bateria']['charge'] = 1\n",
    "    return phone"
   ]
  },
  {
   "cell_type": "code",
   "execution_count": null,
   "metadata": {},
   "outputs": [],
   "source": [
    "charge_phone(mobile)\n",
    "mobile"
   ]
  },
  {
   "cell_type": "code",
   "execution_count": null,
   "metadata": {},
   "outputs": [],
   "source": [
    "the_brigde = {\n",
    "'name' : \"TheBridgeDSapp\",\n",
    "'vers': '1.0.1',\n",
    "'desarrolador': 'TheBridge',\n",
    "'memoria_ocupada': '200Mb',\n",
    "}\n",
    "\n",
    "youtube = {\n",
    "'name' : \"YouTube\",\n",
    "'vers': '10.50',\n",
    "'desarrolador': 'Google',\n",
    "'memoria_ocupada': '300Mb',\n",
    "}\n",
    "\n",
    "def install_app(phone, app):\n",
    "    '''\n",
    "    La función toma un phone y modifica el atributo apps\n",
    "    \n",
    "    Args:\n",
    "    ----\n",
    "        phone obj dict positional\n",
    "        app obj dict positional\n",
    "\n",
    "    Return:\n",
    "    -----\n",
    "        mismo objeto phone con apps modificado\n",
    "    '''\n",
    "    \n",
    "    phone['apps'].append(app)\n",
    "    return phone\n",
    "\n",
    "install_app(mobile, the_brigde)\n",
    "install_app(mobile, youtube)\n",
    "mobile"
   ]
  },
  {
   "cell_type": "code",
   "execution_count": null,
   "metadata": {},
   "outputs": [],
   "source": [
    "def uninstall_app(phone, name_app):\n",
    "    cont = 0\n",
    "    ind = None\n",
    "    \n",
    "    for i in phone['apps']:\n",
    "        if i.get('name') == name_app:\n",
    "            ind = cont\n",
    "            break\n",
    "        else:\n",
    "            cont += 1\n",
    "    \n",
    "    if ind != None:\n",
    "        phone['apps'].pop(ind)\n",
    "    else:\n",
    "        print(\"app not found\")\n",
    "\n",
    "    return phone\n",
    "\n",
    "uninstall_app(mobile, 'YouTube')\n",
    "uninstall_app(mobile, 'TheBridgeDSapp')\n",
    "mobile"
   ]
  },
  {
   "cell_type": "code",
   "execution_count": null,
   "metadata": {},
   "outputs": [],
   "source": [
    "def update_app(phone, name_app, version):\n",
    "    \n",
    "    for i in phone['apps']:\n",
    "        if i['name'] == name_app:\n",
    "            i['version'] = version\n",
    "\n",
    "    return phone\n",
    "\n",
    "update_app(mobile, 'Gmail', '13')\n",
    "mobile"
   ]
  },
  {
   "cell_type": "markdown",
   "metadata": {},
   "source": [
    "# Class"
   ]
  },
  {
   "cell_type": "code",
   "execution_count": 33,
   "metadata": {},
   "outputs": [
    {
     "name": "stdout",
     "output_type": "stream",
     "text": [
      "La clase MobilePhone ha inicializado\n"
     ]
    },
    {
     "data": {
      "text/plain": [
       "[{'name': 'Whatsapp',\n",
       "  'version': '1.56.0',\n",
       "  'memoria_ocupada': '15Mb',\n",
       "  'desarrollador': 'Meta'},\n",
       " {'name': 'Gmail',\n",
       "  'version': '123.56.0',\n",
       "  'memoria_ocupada': '105Mb',\n",
       "  'desarrollador': 'Google'}]"
      ]
     },
     "execution_count": 33,
     "metadata": {},
     "output_type": "execute_result"
    }
   ],
   "source": [
    "class MobilePhone():\n",
    "    '''\n",
    "    Docstring de una clase\n",
    "    '''\n",
    "    def __init__(self, phone):\n",
    "        self.phone = phone # convertimos el parámetro de entrada como variable global a nivel de clase\n",
    "        print(\"La clase MobilePhone ha inicializado\")\n",
    "\n",
    "    def install_app(self, appname):\n",
    "        self.phone['apps'].append(appname)\n",
    "        return self.phone['apps']\n",
    "    \n",
    "    def remove_app(self, appname):\n",
    "        for pos,i in enumerate(self.phone['apps']):\n",
    "            if i['name'] == appname:\n",
    "                self.phone['apps'].pop(pos)\n",
    "        return self.phone['apps']\n",
    "\n",
    "# mobile\n",
    "mobile = {\n",
    "    \"marca\" : \"Samsung\",\n",
    "    \"SO\": \"Android\",\n",
    "    \"version\" : \"5.6\",\n",
    "    \"modelo\" : \"A22\",\n",
    "    \"screen_size\" : 7,\n",
    "    \"weight\" : 200,\n",
    "    \"color\" : \"silver\",\n",
    "    \"RAM\" : 8,\n",
    "    \"memoria\" : 512,\n",
    "    \"camara\" : {\n",
    "        \"frontal\" : {\"resolution\":\"15MP\"},\n",
    "        \"back\" : [\n",
    "            {\"type\": \"zoom\",\n",
    "            \"resolution\": \"25MP\"},\n",
    "            {\"type\": \"macro\",\n",
    "            \"resolution\": \"30MP\"}\n",
    "            ]\n",
    "        },\n",
    "    \"bateria\" : {\"type\" : \"Lithium\",\n",
    "                \"MaxCharge\" : 4500,\n",
    "                \"charge\":0.56},\n",
    "    \"apps\" : [\n",
    "        {\n",
    "        \"name\" : \"Whatsapp\",\n",
    "        \"version\" : \"1.56.0\",\n",
    "        \"memoria_ocupada\" : \"15Mb\",\n",
    "        \"desarrollador\" : \"Meta\"\n",
    "        },\n",
    "        {\n",
    "        \"name\" : \"Gmail\",\n",
    "        \"version\" : \"123.56.0\",\n",
    "        \"memoria_ocupada\" : \"105Mb\",\n",
    "        \"desarrollador\" : \"Google\"\n",
    "        }\n",
    "    ]\n",
    "}\n",
    "\n",
    "# Instanciamos a un objeto la clase MobilePhone\n",
    "telefono = MobilePhone(mobile)\n",
    "\n",
    "youtube = {\n",
    "    \"name\" : \"YouTube\",\n",
    "    \"vers\": \"10.50\",\n",
    "    \"desarrolador\": \"Google\",\n",
    "    \"memoria_ocupada\": \"300Mb\"\n",
    "}\n",
    "\n",
    "telefono.install_app(youtube)\n",
    "telefono.remove_app('YouTube')"
   ]
  }
 ],
 "metadata": {
  "interpreter": {
   "hash": "a240430ec4cd4cfd75c9ff817ea547eda7c4861120e58bca32b539ba4a644825"
  },
  "kernelspec": {
   "display_name": "Python 3.9.5 ('the_bridge_22')",
   "language": "python",
   "name": "python3"
  },
  "language_info": {
   "codemirror_mode": {
    "name": "ipython",
    "version": 3
   },
   "file_extension": ".py",
   "mimetype": "text/x-python",
   "name": "python",
   "nbconvert_exporter": "python",
   "pygments_lexer": "ipython3",
   "version": "3.9.5"
  },
  "orig_nbformat": 4
 },
 "nbformat": 4,
 "nbformat_minor": 2
}
