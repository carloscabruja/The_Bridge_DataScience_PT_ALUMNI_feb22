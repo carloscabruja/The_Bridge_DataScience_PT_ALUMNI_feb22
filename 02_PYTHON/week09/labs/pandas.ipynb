{
 "cells": [
  {
   "cell_type": "markdown",
   "metadata": {},
   "source": [
    "# Librería Pandas - Análisis de datos"
   ]
  },
  {
   "cell_type": "code",
   "execution_count": 63,
   "metadata": {},
   "outputs": [],
   "source": [
    "import pandas as pd\n",
    "import numpy as np"
   ]
  },
  {
   "cell_type": "code",
   "execution_count": 64,
   "metadata": {},
   "outputs": [
    {
     "name": "stdout",
     "output_type": "stream",
     "text": [
      "       alice   bob   eve\n",
      "year    1953  1955  2011\n",
      "month     12    11    10\n",
      "day        3    24    10\n"
     ]
    }
   ],
   "source": [
    "d = {\"alice\" : [1953, 12, 3], \"bob\" : [1955, 11, 24], \"eve\" : [2011, 10, 10]}\n",
    "print(pd.DataFrame(d, index=[\"year\", \"month\", \"day\"]))"
   ]
  },
  {
   "cell_type": "code",
   "execution_count": 65,
   "metadata": {},
   "outputs": [
    {
     "name": "stdout",
     "output_type": "stream",
     "text": [
      "       year  month  day\n",
      "alice  1953     12    3\n",
      "bob    1955     11   24\n",
      "eve    2011     10   10\n"
     ]
    }
   ],
   "source": [
    "# Utilizamos una lista de listas para introducir los datos y dos listas adicionales \n",
    "# para indicar las etiquetas de filas y las columnas.\n",
    "a = [[1953, 12, 3], [1955, 11, 24], [2011, 10, 10]]\n",
    "print(pd.DataFrame(a, columns=[\"year\", \"month\", \"day\"], index = [\"alice\", \"bob\", \"eve\"]))"
   ]
  },
  {
   "cell_type": "code",
   "execution_count": 66,
   "metadata": {},
   "outputs": [],
   "source": [
    "img = [[[0, 0, 0], [0, 15, 0], [0, 0, 15], [15, 0, 0], [180, 180, 180]],\n",
    "       [[200, 200, 200], [125, 1, 125], [100, 100, 2], [1, 152, 125], [15, 25, 20]]]\n",
    "\n",
    "# Utilizamos números para indexar filas y columnas, y las letras\n",
    "# \"R\", \"G\", \"B\" para indicar el contenido de este color en cada píxel\n",
    "index = pd.MultiIndex.from_product(\n",
    "    [range(len(img)), range(len(img[0])), [\"R\", \"G\", \"B\"]], \n",
    "    names=['row', 'column', 'color'])"
   ]
  },
  {
   "cell_type": "code",
   "execution_count": 67,
   "metadata": {},
   "outputs": [
    {
     "data": {
      "text/plain": [
       "row  column  color\n",
       "0    0       R          0\n",
       "             G          0\n",
       "             B          0\n",
       "     1       R          0\n",
       "             G         15\n",
       "             B          0\n",
       "     2       R          0\n",
       "             G          0\n",
       "             B         15\n",
       "     3       R         15\n",
       "             G          0\n",
       "             B          0\n",
       "     4       R        180\n",
       "             G        180\n",
       "             B        180\n",
       "1    0       R        200\n",
       "             G        200\n",
       "             B        200\n",
       "     1       R        125\n",
       "             G          1\n",
       "             B        125\n",
       "     2       R        100\n",
       "             G        100\n",
       "             B          2\n",
       "     3       R          1\n",
       "             G        152\n",
       "             B        125\n",
       "     4       R         15\n",
       "             G         25\n",
       "             B         20\n",
       "dtype: int64"
      ]
     },
     "execution_count": 67,
     "metadata": {},
     "output_type": "execute_result"
    }
   ],
   "source": [
    "# Creamos la serie con el índice multidimensional especificando los datos\n",
    "# y los índices\n",
    "s = pd.Series([x for row in img for col in row for x in col], \n",
    "               index=index)\n",
    "s"
   ]
  },
  {
   "cell_type": "markdown",
   "metadata": {},
   "source": [
    "# Exploración del dataframe"
   ]
  },
  {
   "cell_type": "code",
   "execution_count": 68,
   "metadata": {},
   "outputs": [
    {
     "data": {
      "text/plain": [
       "RangeIndex(start=0, stop=16376, step=1)"
      ]
     },
     "execution_count": 68,
     "metadata": {},
     "output_type": "execute_result"
    }
   ],
   "source": [
    "# cargamos los datos\n",
    "data = pd.read_csv(\"carpeta_ficheros/data_marvel-wikia-data.csv\")\n",
    "data.index"
   ]
  },
  {
   "cell_type": "code",
   "execution_count": 69,
   "metadata": {},
   "outputs": [
    {
     "data": {
      "text/plain": [
       "0              Spider-Man (Peter Parker)\n",
       "1        Captain America (Steven Rogers)\n",
       "2    Wolverine (James \\\"Logan\\\" Howlett)\n",
       "3      Iron Man (Anthony \\\"Tony\\\" Stark)\n",
       "4                    Thor (Thor Odinson)\n",
       "5             Benjamin Grimm (Earth-616)\n",
       "6              Reed Richards (Earth-616)\n",
       "7             Hulk (Robert Bruce Banner)\n",
       "8              Scott Summers (Earth-616)\n",
       "9             Jonathan Storm (Earth-616)\n",
       "Name: name, dtype: object"
      ]
     },
     "execution_count": 69,
     "metadata": {},
     "output_type": "execute_result"
    }
   ],
   "source": [
    "data['name'][:10]"
   ]
  },
  {
   "cell_type": "code",
   "execution_count": 70,
   "metadata": {},
   "outputs": [
    {
     "data": {
      "text/html": [
       "<div>\n",
       "<style scoped>\n",
       "    .dataframe tbody tr th:only-of-type {\n",
       "        vertical-align: middle;\n",
       "    }\n",
       "\n",
       "    .dataframe tbody tr th {\n",
       "        vertical-align: top;\n",
       "    }\n",
       "\n",
       "    .dataframe thead th {\n",
       "        text-align: right;\n",
       "    }\n",
       "</style>\n",
       "<table border=\"1\" class=\"dataframe\">\n",
       "  <thead>\n",
       "    <tr style=\"text-align: right;\">\n",
       "      <th></th>\n",
       "      <th>name</th>\n",
       "      <th>ID</th>\n",
       "      <th>HAIR</th>\n",
       "    </tr>\n",
       "  </thead>\n",
       "  <tbody>\n",
       "    <tr>\n",
       "      <th>3</th>\n",
       "      <td>Iron Man (Anthony \\\"Tony\\\" Stark)</td>\n",
       "      <td>Public Identity</td>\n",
       "      <td>Black Hair</td>\n",
       "    </tr>\n",
       "    <tr>\n",
       "      <th>8</th>\n",
       "      <td>Scott Summers (Earth-616)</td>\n",
       "      <td>Public Identity</td>\n",
       "      <td>Brown Hair</td>\n",
       "    </tr>\n",
       "  </tbody>\n",
       "</table>\n",
       "</div>"
      ],
      "text/plain": [
       "                                name               ID        HAIR\n",
       "3  Iron Man (Anthony \\\"Tony\\\" Stark)  Public Identity  Black Hair\n",
       "8          Scott Summers (Earth-616)  Public Identity  Brown Hair"
      ]
     },
     "execution_count": 70,
     "metadata": {},
     "output_type": "execute_result"
    }
   ],
   "source": [
    "data.loc[[3,8], ['name', 'ID','HAIR']]"
   ]
  },
  {
   "cell_type": "code",
   "execution_count": 71,
   "metadata": {},
   "outputs": [],
   "source": [
    "# Seleccionamos filas según el género del superhéroe utilizando operadores binarios y expresiones Python.\n",
    "male = data[data['SEX'] == 'Male Characters']\n",
    "female = data[data['SEX'] == 'Female Characters']"
   ]
  },
  {
   "cell_type": "code",
   "execution_count": 80,
   "metadata": {},
   "outputs": [
    {
     "data": {
      "text/plain": [
       "0    Spider-Man (Peter Parker)\n",
       "Name: name, dtype: object"
      ]
     },
     "execution_count": 80,
     "metadata": {},
     "output_type": "execute_result"
    }
   ],
   "source": [
    "# Combinamos operadores binarios para seleccionar los superhéroes con identidad secreta que han aparecido más\n",
    "# de dos mil veces con expresiones Python.\n",
    "# ID = 'Secret Identity' and APPEARANCES > 2000\n",
    "secret_and_popular = data[(data['ID'] == 'Secret Identity') & (data['APPEARANCES'] > 2000)]\n",
    "secret_and_popular['name']"
   ]
  }
 ],
 "metadata": {
  "interpreter": {
   "hash": "a240430ec4cd4cfd75c9ff817ea547eda7c4861120e58bca32b539ba4a644825"
  },
  "kernelspec": {
   "display_name": "Python 3.9.5 ('the_bridge_22')",
   "language": "python",
   "name": "python3"
  },
  "language_info": {
   "codemirror_mode": {
    "name": "ipython",
    "version": 3
   },
   "file_extension": ".py",
   "mimetype": "text/x-python",
   "name": "python",
   "nbconvert_exporter": "python",
   "pygments_lexer": "ipython3",
   "version": "3.9.5"
  },
  "orig_nbformat": 4
 },
 "nbformat": 4,
 "nbformat_minor": 2
}
