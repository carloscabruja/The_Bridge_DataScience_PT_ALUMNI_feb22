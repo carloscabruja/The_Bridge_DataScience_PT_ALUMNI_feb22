{
 "cells": [
  {
   "cell_type": "markdown",
   "metadata": {},
   "source": [
    "# Funciones"
   ]
  },
  {
   "cell_type": "code",
   "execution_count": null,
   "metadata": {},
   "outputs": [],
   "source": [
    "# Definimos la función outer_fun en el ámbito global\n",
    "def outer_fun():\n",
    "\n",
    "    # Definimos la función inner_fun_1 dentro de outer_fun\n",
    "    def inner_fun_1():\n",
    "        # Definimos la variable my_var_if1 dentro inner_fun_1\n",
    "        my_var_if1 = \"This is defined in inner_fun_1\"\n",
    "        # Mostramos el valor de la variable de outer_fun x y la variable\n",
    "        # global y\n",
    "        print(\"Inner fun 1 x:\\t{}\".format(x))\n",
    "        print(\"Inner fun 1 y:\\t{}\".format(y))\n",
    "\n",
    "    # Definimos la función inner_fun_2 dentro de outer_fun\n",
    "    def inner_fun_2():\n",
    "        # Definimos y mostramos una nueva variable x local a inner_fun_2\n",
    "        # con valor 5\n",
    "        x = 5\n",
    "        print(\"Inner fun 2 x:\\t{}\".format(x))\n",
    "\n",
    "    # Definimos la función inner_fun_3 dentro de outer_fun\n",
    "    def inner_fun_3():\n",
    "        # Indicamos que utilizaremos la variable x no local\n",
    "        # (definida en outer_fun)\n",
    "        nonlocal x\n",
    "        # Modificamos y mostramos el valor de x\n",
    "        x = 7\n",
    "        print(\"Inner fun 3 x:\\t{}\".format(x))\n",
    "\n",
    "    # Definimos la función inner_fun_4 dentro de outer_fun\n",
    "    def inner_fun_4():\n",
    "        try:\n",
    "            # Intentamos acceder a la variable my_var_if1 definida dentro\n",
    "            # de inner_fun_1 (lo que generará una excepción)\n",
    "            print(my_var_if1)\n",
    "        except NameError:\n",
    "            print(\"Error: undefined variable\")\n",
    "\n",
    "    # Mostramos el valor de la variable global y\n",
    "    print(\"Outer fun 1 y:\\t{}\".format(y))\n",
    "\n",
    "    # Definimos una variable local a outer_fun de nombre x y valor 3\n",
    "    x = 3\n",
    "    # Vamos mostrando el valor de x y ejecutando las funciones internas,\n",
    "    # para ver el efecto que tienen sobre x\n",
    "    print(\"Outer fun x:\\t{}\".format(x))\n",
    "    inner_fun_1()\n",
    "    print(\"Outer fun x:\\t{}\".format(x))\n",
    "    inner_fun_2()\n",
    "    print(\"Outer fun x:\\t{}\".format(x))\n",
    "    inner_fun_3()\n",
    "    print(\"Outer fun x:\\t{}\".format(x))\n",
    "    inner_fun_4()"
   ]
  },
  {
   "cell_type": "code",
   "execution_count": null,
   "metadata": {},
   "outputs": [],
   "source": [
    "y = 1"
   ]
  },
  {
   "cell_type": "code",
   "execution_count": null,
   "metadata": {},
   "outputs": [],
   "source": [
    "outer_fun()"
   ]
  },
  {
   "cell_type": "code",
   "execution_count": null,
   "metadata": {},
   "outputs": [],
   "source": [
    "def is_close(x, y, l1_x, l1_y, l2_x, l2_y):\n",
    "\n",
    "    def dist(x1, y1, x2, y2):\n",
    "        return abs(x1 - x2) + abs(y1 - y2)\n",
    "    \n",
    "    # Consideramos que un punto está cerca de otro si la distancia entre ellos\n",
    "    # es inferior a lim\n",
    "    lim = 10\n",
    "    # Retornamos si (x, y) está cerca tanto de (l1_x, l1_y) como de\n",
    "    # (l2_x, l2_y)\n",
    "    return (dist(x, y, l1_x, l1_y) < lim) and (dist(x, y, l2_x, l2_y) < lim)"
   ]
  },
  {
   "cell_type": "code",
   "execution_count": null,
   "metadata": {},
   "outputs": [],
   "source": [
    "# Calculamos si la dirección actual (0, 0) está cerca de (1, 4) y (-7, 1)\n",
    "r1 = is_close(0, 0, 1, 4, -7, 1)\n",
    "print(\"(0, 0) is close to (1, 4) and (-7, 1)?: {}\".format(r1))\n",
    "\n",
    "# Calculamos si la dirección actual (0, 0) está cerca de (1, 4) y (15, 1)\n",
    "r2 = is_close(0, 0, 1, 4, 15, 1)\n",
    "print(\"(0, 0) is close to (1, 4) and (15, 1)?: {}\".format(r2))"
   ]
  },
  {
   "cell_type": "markdown",
   "metadata": {},
   "source": [
    "# PRACTICA 1\n",
    "\n",
    "Definid una función que reciba como parámetros dos valores (x e y) que serán dos vectores de enteros, y devuelva la distancia euclídea entre los puntos representados por los vectores. Es necesario que el cuerpo de la función contenga una única expresión, que calcule y devuelva el resultado. Los vectores pueden tener un tamaño arbitrario, pero ambos vectores tendrán el mismo número de elementos. Solo se pueden utilizar funciones de la librería estándar de Python."
   ]
  },
  {
   "cell_type": "code",
   "execution_count": null,
   "metadata": {},
   "outputs": [],
   "source": [
    "def distancia_euclidea(x, y):\n",
    "\n",
    "    def sum_distancia(x, y):\n",
    "        return sum([(x[i] - y[i]) ** 2 for i in range(len(x))])\n",
    "\n",
    "    return pow(sum_distancia(x, y), 1/2)"
   ]
  },
  {
   "cell_type": "code",
   "execution_count": 50,
   "metadata": {},
   "outputs": [],
   "source": [
    "import math\n",
    "def eucl_dist(x, y):\n",
    "    return math.sqrt(sum([(coord[0] - coord[1]) ** 2 for coord in zip(x,y)]))"
   ]
  },
  {
   "cell_type": "code",
   "execution_count": 53,
   "metadata": {},
   "outputs": [
    {
     "name": "stdout",
     "output_type": "stream",
     "text": [
      "5.0990195135927845\n"
     ]
    }
   ],
   "source": [
    "vector1 = [2, 1]\n",
    "vector2 = [-3, 2]\n",
    "\n",
    "print(eucl_dist(vector1, vector2))"
   ]
  },
  {
   "cell_type": "markdown",
   "metadata": {},
   "source": [
    "# PRACTICA 2\n",
    "\n",
    "Definid una función que reciba como parámetros dos valores (x e y) que serán dos vectores de enteros, y devuelva la distancia de Manhattan entre los puntos representados por los vectores. Es necesario que el cuerpo de la función contenga una única expresión, que calcule y devuelva el resultado. Los vectores pueden tener un tamaño arbitrario, pero ambos vectores tendrán el mismo número de elementos. Solo se pueden utilizar funciones de la librería estándar de Python."
   ]
  },
  {
   "cell_type": "code",
   "execution_count": null,
   "metadata": {},
   "outputs": [],
   "source": [
    "def distancia_manhattan(x, y):\n",
    "\n",
    "    def sum_distancia(x, y):\n",
    "        return sum([abs(x[i] - y[i]) for i in range(len(x))])\n",
    "\n",
    "    return sum_distancia(x,y)"
   ]
  },
  {
   "cell_type": "code",
   "execution_count": null,
   "metadata": {},
   "outputs": [],
   "source": [
    "vector1 = [2, 1]\n",
    "vector2 = [-3, 2]\n",
    "\n",
    "print(distancia_manhattan(vector1, vector2))"
   ]
  },
  {
   "cell_type": "markdown",
   "metadata": {},
   "source": [
    "# PRACTICA 3 \n",
    "\n",
    "Definid una función compute_all_distances que reciba como parámetros dos valores (x e y) que serán dos vectores de enteros, y devuelva una tupla de dos elementos, con las distancias euclidiana y de Manhattan entre los puntos representados por los vectores. Los vectores pueden tener un tamaño arbitrario, pero ambos vectores tendrán el mismo número de elementos. Solo se pueden utilizar funciones de la librería estándar de Python.\n",
    "Para ello, encapsulad el código de las funciones de las actividades anteriores dentro de la función compute_all_distances."
   ]
  },
  {
   "cell_type": "code",
   "execution_count": null,
   "metadata": {},
   "outputs": [],
   "source": [
    "def compute_all_distances(x, y):\n",
    "    '''\n",
    "    ----------\n",
    "    Args:\n",
    "    ----------\n",
    "        x : vector X\n",
    "        y : vector Y\n",
    "    ----------\n",
    "    Return:\n",
    "    ----------\n",
    "    Tupla(Euclidiana, Manhattan)\n",
    "\n",
    "    '''\n",
    "\n",
    "    def sum_dist_euclidea(x, y):\n",
    "        return sum([(x[i] - y[i]) ** 2 for i in range(len(x))])\n",
    "\n",
    "    def distancia_euclidea(x, y):\n",
    "        return pow(sum_dist_euclidea(x, y), 1/2)\n",
    "\n",
    "    def distancia_manhattan(x, y):\n",
    "        return sum([abs(x[i] - y[i]) for i in range(len(x))])\n",
    "\n",
    "    return (distancia_euclidea(x,y), distancia_manhattan(x,y))\n",
    "        "
   ]
  },
  {
   "cell_type": "code",
   "execution_count": null,
   "metadata": {},
   "outputs": [],
   "source": [
    "vector1 = [2, 1]\n",
    "vector2 = [-3, 2]\n",
    "\n",
    "print(compute_all_distances(vector1, vector2))"
   ]
  },
  {
   "cell_type": "markdown",
   "metadata": {},
   "source": [
    "## PRACTICA 4\n",
    "\n",
    "En la frutería del barrio tienen un problema que requiere de nuestra ayuda.\n",
    "\n",
    "Reiteradamente, se les rompen las estanterías donde ponen las naranjas, y quieren evitar que esto vuelva a pasar. \n",
    "\n",
    "Han calculado que los estantes de madera soportan sin problemas un peso de 50 kilos, y los de plástico 30 kilos, pero siempre dudan de si pueden añadir algún piso de naranjas más (ya que esto siempre luce más delante de los clientes).\n",
    "\n",
    "Las naranjas se encuentran apiladas en una pirámide de base cuadrada. \n",
    "\n",
    "Así pues, en lo alto hay una sola naranja, en el segundo piso hay 4, en el tercer piso hay 9, etc. \n",
    "\n",
    "Los pisos siempre están completos.\n",
    "\n",
    "Definid una función que reciba como parámetros el número de pisos de naranjas que quieren hacer, el peso medio de cada naranja, y el tipo de material del estante, y devuelva un booleano indicando si el estante aguantará el peso o no.\n",
    "\n",
    "La función siempre recibirá el número de pisos de naranjas, pero los parámetros de peso medio y material son opcionales, y tomarán un valor por defecto de 0.2 y madera (\"Wood\"), respectivamente."
   ]
  },
  {
   "cell_type": "code",
   "execution_count": 57,
   "metadata": {},
   "outputs": [],
   "source": [
    "def aguanta_estanteria(pisos, peso_medio = 0.2, tipo = \"Wood\"):\n",
    "    \n",
    "    material={\"Wood\": \"50\",\"Plastic\":\"30\"}\n",
    "\n",
    "    def n_naranjas(p):\n",
    "        return sum([i * i for i in range(1, p + 1)])\n",
    "\n",
    "    def peso_estanteria(p, p_m):\n",
    "        return (n_naranjas(p) * p_m)\n",
    "\n",
    "    return (peso_estanteria(pisos, peso_medio) <= int(material[tipo]))"
   ]
  }
 ],
 "metadata": {
  "interpreter": {
   "hash": "a240430ec4cd4cfd75c9ff817ea547eda7c4861120e58bca32b539ba4a644825"
  },
  "kernelspec": {
   "display_name": "Python 3.9.5 ('the_bridge_22')",
   "language": "python",
   "name": "python3"
  },
  "language_info": {
   "codemirror_mode": {
    "name": "ipython",
    "version": 3
   },
   "file_extension": ".py",
   "mimetype": "text/x-python",
   "name": "python",
   "nbconvert_exporter": "python",
   "pygments_lexer": "ipython3",
   "version": "3.9.5"
  },
  "orig_nbformat": 4
 },
 "nbformat": 4,
 "nbformat_minor": 2
}
