{
 "cells": [
  {
   "cell_type": "markdown",
   "metadata": {},
   "source": [
    "## Programación Data Science"
   ]
  },
  {
   "cell_type": "markdown",
   "metadata": {},
   "source": [
    "## Ejercicio 1\n",
    "\n",
    "Definid una función que pueda recibir un número de parámetros cualquiera, superior a 1, y que devuelva el resultado de sumar el resultado de aplicar la función que recibe como primer parámetro a cada uno de los otros parámetros.\n",
    "\n",
    "Por ejemplo, si la función recibe como primer argumento una función que calcula cuadrados, como segundo argumento un 5, y como tercer argumento un 10, debería devolver $5^2 + 10^2 = 125$\n",
    "\n",
    "Llamad a la función definida con los valores del ejemplo mencionado en el enunciado, y comprobad que se obtiene el resultado correcto. Comprobad también que la función devuelve los resultados esperados para una llamada con dos argumentos y con cinco argumentos.\n"
   ]
  },
  {
   "cell_type": "code",
   "execution_count": 4,
   "metadata": {},
   "outputs": [
    {
     "name": "stdout",
     "output_type": "stream",
     "text": [
      "125\n",
      "5\n"
     ]
    }
   ],
   "source": [
    "## Respuesta\n",
    "from functools import reduce\n",
    "\n",
    "def suma_arg(fun, *arg):\n",
    "    mylist= list(arg)\n",
    "    return reduce(lambda x, y: x + y, map(fun, mylist))\n",
    "\n",
    "print(suma_arg(lambda x: pow(x, 2), 5, 10))\n",
    "\n",
    "print(suma_arg(lambda x: x, 1, 1, 1, 1, 1))"
   ]
  },
  {
   "cell_type": "markdown",
   "metadata": {},
   "source": [
    "## Ejercicio 2\n",
    "\n",
    "Definid una función que reciba dos parámetros, una lista de enteros y un entero, y devuelva una lista con los mismos elementos que la lista original eliminando todas las apariciones del entero especificado.\n",
    "\n",
    " Implementad una función que modifique la lista original. Haced una llamada a la función definida y mostrad que, efectivamente, la lista original se modifica."
   ]
  },
  {
   "cell_type": "code",
   "execution_count": 35,
   "metadata": {},
   "outputs": [
    {
     "data": {
      "text/plain": [
       "[2, 2, 3, 4]"
      ]
     },
     "execution_count": 35,
     "metadata": {},
     "output_type": "execute_result"
    }
   ],
   "source": [
    "## Respuesta\n",
    "def filtrar_ele(l, ele):\n",
    "    global mylist\n",
    "    mylist = list(filter(lambda i: l[i] != ele, l))\n",
    "\n",
    "mylist = [1, 1, 2, 2, 3, 4]\n",
    "ele = 1\n",
    "\n",
    "filtrar_ele(mylist, ele)\n",
    "\n",
    "mylist"
   ]
  },
  {
   "cell_type": "markdown",
   "metadata": {},
   "source": [
    "## Ejercicio 3\n",
    "\n",
    "Implementad una función que no modifique la lista original. Haced una llamada a la función definida y mostrad que, efectivamente, no se modifica la lista original."
   ]
  },
  {
   "cell_type": "code",
   "execution_count": 37,
   "metadata": {},
   "outputs": [
    {
     "name": "stdout",
     "output_type": "stream",
     "text": [
      "[1, 1, 2, 2, 3, 4] [2, 2, 3, 4]\n"
     ]
    }
   ],
   "source": [
    "## Respuesta\n",
    "def filtrar_ele(l, ele):\n",
    "    return list(filter(lambda i: l[i] != ele, l))\n",
    "\n",
    "mylist = [1, 1, 2, 2, 3, 4]\n",
    "ele = 1\n",
    "\n",
    "print(mylist, filtrar_ele(mylist, ele))"
   ]
  }
 ],
 "metadata": {
  "interpreter": {
   "hash": "3a457f06cda4579c7033761bf4e886c4764e74b759b9220f07c03aa5d4880471"
  },
  "kernelspec": {
   "display_name": "Python 3.9.5 ('data_science_py395')",
   "language": "python",
   "name": "python3"
  },
  "language_info": {
   "codemirror_mode": {
    "name": "ipython",
    "version": 3
   },
   "file_extension": ".py",
   "mimetype": "text/x-python",
   "name": "python",
   "nbconvert_exporter": "python",
   "pygments_lexer": "ipython3",
   "version": "3.9.5"
  },
  "orig_nbformat": 4
 },
 "nbformat": 4,
 "nbformat_minor": 2
}
